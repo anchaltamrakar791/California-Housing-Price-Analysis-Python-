{
  "nbformat": 4,
  "nbformat_minor": 0,
  "metadata": {
    "colab": {
      "provenance": []
    },
    "kernelspec": {
      "name": "python3",
      "display_name": "Python 3"
    },
    "language_info": {
      "name": "python"
    }
  },
  "cells": [
    {
      "cell_type": "code",
      "source": [],
      "metadata": {
        "id": "WUoTqL2-To1k"
      },
      "execution_count": null,
      "outputs": []
    },
    {
      "cell_type": "markdown",
      "source": [
        "**Introduction:** My name is Anchal Tamrakar and i am going to present my presentation which is based on **\"Housing analysis\"**.\n"
      ],
      "metadata": {
        "id": "rmQ6hfnsTv5C"
      }
    },
    {
      "cell_type": "markdown",
      "source": [
        "**Dataset Overview:**\"The dataset used for this project is a collection of housing-related information, including columns such as longitude, latitude, housing median age, total rooms, total bedrooms, population, median income, median house value, and ocean proximity. Each data point represents a distinct housing unit, providing a rich and diverse set of variables for our analysis.\""
      ],
      "metadata": {
        "id": "RsNE3rjoutd7"
      }
    },
    {
      "cell_type": "markdown",
      "source": [
        " **Methodology:**\n",
        "\n",
        "1.\"To achieve our goals, we'll employ a range of data analysis techniques,\n",
        "\n",
        "including importing library of numpy for mathematical operations and for data manipulation and Pandas library is for data analysis and manipulation\n",
        "\n",
        "and as well as used matlpotlib and seaborn for visualizing data using plots\n",
        "and graphs.\n",
        "\n",
        "2.Used the Pandas library to read my dataset\n",
        "\n",
        "3.used null( ) function -to check the null values\n",
        "\n",
        "used datatype( ) function to check the datatype\n",
        "\n",
        "used duplicate( ) function to see the duplicate vaules\n",
        "\n",
        "used mean( ) and median( ) functions to find mean and median values\n",
        "\n",
        "used head( )function to see the first 5 rows\n",
        "\n",
        "and ploted charts and graphs using matplotlib and seabor library"
      ],
      "metadata": {
        "id": "6TAsf3-euzL6"
      }
    },
    {
      "cell_type": "code",
      "source": [],
      "metadata": {
        "id": "zxnVtB2vumSx"
      },
      "execution_count": null,
      "outputs": []
    },
    {
      "cell_type": "code",
      "source": [
        "import numpy as np\n",
        "import pandas as pd\n",
        "import matplotlib.pyplot as plt\n",
        "import seaborn as sns\n",
        "\n",
        "\n",
        "import pandas as pd\n",
        "housing = pd.read_excel(\"/content/housing+(1) (3).xlsx\")\n",
        "print(housing)"
      ],
      "metadata": {
        "colab": {
          "base_uri": "https://localhost:8080/"
        },
        "id": "XiAxF_1624DR",
        "outputId": "8eeb6de3-9209-4449-8a2d-76e3f89d776f"
      },
      "execution_count": null,
      "outputs": [
        {
          "output_type": "stream",
          "name": "stdout",
          "text": [
            "       longitude  latitude  housing_median_age  total_rooms  total_bedrooms  \\\n",
            "0        -122.23     37.88                  41          880           129.0   \n",
            "1        -122.22     37.86                  21         7099          1106.0   \n",
            "2        -122.24     37.85                  52         1467           190.0   \n",
            "3        -122.25     37.85                  52         1274           235.0   \n",
            "4        -122.25     37.85                  52         1627           280.0   \n",
            "...          ...       ...                 ...          ...             ...   \n",
            "20635    -121.09     39.48                  25         1665           374.0   \n",
            "20636    -121.21     39.49                  18          697           150.0   \n",
            "20637    -121.22     39.43                  17         2254           485.0   \n",
            "20638    -121.32     39.43                  18         1860           409.0   \n",
            "20639    -121.24     39.37                  16         2785           616.0   \n",
            "\n",
            "       population  households  median_income  median_house_value  \\\n",
            "0             322         126         8.3252              452600   \n",
            "1            2401        1138         8.3014              358500   \n",
            "2             496         177         7.2574              352100   \n",
            "3             558         219         5.6431              341300   \n",
            "4             565         259         3.8462              342200   \n",
            "...           ...         ...            ...                 ...   \n",
            "20635         845         330         1.5603               78100   \n",
            "20636         356         114         2.5568               77100   \n",
            "20637        1007         433         1.7000               92300   \n",
            "20638         741         349         1.8672               84700   \n",
            "20639        1387         530         2.3886               89400   \n",
            "\n",
            "      ocean_proximity  \n",
            "0            NEAR BAY  \n",
            "1            NEAR BAY  \n",
            "2            NEAR BAY  \n",
            "3            NEAR BAY  \n",
            "4            NEAR BAY  \n",
            "...               ...  \n",
            "20635          INLAND  \n",
            "20636          INLAND  \n",
            "20637          INLAND  \n",
            "20638          INLAND  \n",
            "20639          INLAND  \n",
            "\n",
            "[20640 rows x 10 columns]\n"
          ]
        }
      ]
    },
    {
      "cell_type": "code",
      "source": [
        "housing.isnull()"
      ],
      "metadata": {
        "id": "FpcbyFUZ24G5",
        "colab": {
          "base_uri": "https://localhost:8080/",
          "height": 699
        },
        "outputId": "c87ef2cf-b1e4-4ae2-de39-778d1681780a"
      },
      "execution_count": null,
      "outputs": [
        {
          "output_type": "execute_result",
          "data": {
            "text/plain": [
              "       longitude  latitude  housing_median_age  total_rooms  total_bedrooms  \\\n",
              "0          False     False               False        False           False   \n",
              "1          False     False               False        False           False   \n",
              "2          False     False               False        False           False   \n",
              "3          False     False               False        False           False   \n",
              "4          False     False               False        False           False   \n",
              "...          ...       ...                 ...          ...             ...   \n",
              "20635      False     False               False        False           False   \n",
              "20636      False     False               False        False           False   \n",
              "20637      False     False               False        False           False   \n",
              "20638      False     False               False        False           False   \n",
              "20639      False     False               False        False           False   \n",
              "\n",
              "       population  households  median_income  median_house_value  \\\n",
              "0           False       False          False               False   \n",
              "1           False       False          False               False   \n",
              "2           False       False          False               False   \n",
              "3           False       False          False               False   \n",
              "4           False       False          False               False   \n",
              "...           ...         ...            ...                 ...   \n",
              "20635       False       False          False               False   \n",
              "20636       False       False          False               False   \n",
              "20637       False       False          False               False   \n",
              "20638       False       False          False               False   \n",
              "20639       False       False          False               False   \n",
              "\n",
              "       ocean_proximity  \n",
              "0                False  \n",
              "1                False  \n",
              "2                False  \n",
              "3                False  \n",
              "4                False  \n",
              "...                ...  \n",
              "20635            False  \n",
              "20636            False  \n",
              "20637            False  \n",
              "20638            False  \n",
              "20639            False  \n",
              "\n",
              "[20640 rows x 10 columns]"
            ],
            "text/html": [
              "\n",
              "  <div id=\"df-cc485e74-cc88-4033-8743-1dddf3df98c1\" class=\"colab-df-container\">\n",
              "    <div>\n",
              "<style scoped>\n",
              "    .dataframe tbody tr th:only-of-type {\n",
              "        vertical-align: middle;\n",
              "    }\n",
              "\n",
              "    .dataframe tbody tr th {\n",
              "        vertical-align: top;\n",
              "    }\n",
              "\n",
              "    .dataframe thead th {\n",
              "        text-align: right;\n",
              "    }\n",
              "</style>\n",
              "<table border=\"1\" class=\"dataframe\">\n",
              "  <thead>\n",
              "    <tr style=\"text-align: right;\">\n",
              "      <th></th>\n",
              "      <th>longitude</th>\n",
              "      <th>latitude</th>\n",
              "      <th>housing_median_age</th>\n",
              "      <th>total_rooms</th>\n",
              "      <th>total_bedrooms</th>\n",
              "      <th>population</th>\n",
              "      <th>households</th>\n",
              "      <th>median_income</th>\n",
              "      <th>median_house_value</th>\n",
              "      <th>ocean_proximity</th>\n",
              "    </tr>\n",
              "  </thead>\n",
              "  <tbody>\n",
              "    <tr>\n",
              "      <th>0</th>\n",
              "      <td>False</td>\n",
              "      <td>False</td>\n",
              "      <td>False</td>\n",
              "      <td>False</td>\n",
              "      <td>False</td>\n",
              "      <td>False</td>\n",
              "      <td>False</td>\n",
              "      <td>False</td>\n",
              "      <td>False</td>\n",
              "      <td>False</td>\n",
              "    </tr>\n",
              "    <tr>\n",
              "      <th>1</th>\n",
              "      <td>False</td>\n",
              "      <td>False</td>\n",
              "      <td>False</td>\n",
              "      <td>False</td>\n",
              "      <td>False</td>\n",
              "      <td>False</td>\n",
              "      <td>False</td>\n",
              "      <td>False</td>\n",
              "      <td>False</td>\n",
              "      <td>False</td>\n",
              "    </tr>\n",
              "    <tr>\n",
              "      <th>2</th>\n",
              "      <td>False</td>\n",
              "      <td>False</td>\n",
              "      <td>False</td>\n",
              "      <td>False</td>\n",
              "      <td>False</td>\n",
              "      <td>False</td>\n",
              "      <td>False</td>\n",
              "      <td>False</td>\n",
              "      <td>False</td>\n",
              "      <td>False</td>\n",
              "    </tr>\n",
              "    <tr>\n",
              "      <th>3</th>\n",
              "      <td>False</td>\n",
              "      <td>False</td>\n",
              "      <td>False</td>\n",
              "      <td>False</td>\n",
              "      <td>False</td>\n",
              "      <td>False</td>\n",
              "      <td>False</td>\n",
              "      <td>False</td>\n",
              "      <td>False</td>\n",
              "      <td>False</td>\n",
              "    </tr>\n",
              "    <tr>\n",
              "      <th>4</th>\n",
              "      <td>False</td>\n",
              "      <td>False</td>\n",
              "      <td>False</td>\n",
              "      <td>False</td>\n",
              "      <td>False</td>\n",
              "      <td>False</td>\n",
              "      <td>False</td>\n",
              "      <td>False</td>\n",
              "      <td>False</td>\n",
              "      <td>False</td>\n",
              "    </tr>\n",
              "    <tr>\n",
              "      <th>...</th>\n",
              "      <td>...</td>\n",
              "      <td>...</td>\n",
              "      <td>...</td>\n",
              "      <td>...</td>\n",
              "      <td>...</td>\n",
              "      <td>...</td>\n",
              "      <td>...</td>\n",
              "      <td>...</td>\n",
              "      <td>...</td>\n",
              "      <td>...</td>\n",
              "    </tr>\n",
              "    <tr>\n",
              "      <th>20635</th>\n",
              "      <td>False</td>\n",
              "      <td>False</td>\n",
              "      <td>False</td>\n",
              "      <td>False</td>\n",
              "      <td>False</td>\n",
              "      <td>False</td>\n",
              "      <td>False</td>\n",
              "      <td>False</td>\n",
              "      <td>False</td>\n",
              "      <td>False</td>\n",
              "    </tr>\n",
              "    <tr>\n",
              "      <th>20636</th>\n",
              "      <td>False</td>\n",
              "      <td>False</td>\n",
              "      <td>False</td>\n",
              "      <td>False</td>\n",
              "      <td>False</td>\n",
              "      <td>False</td>\n",
              "      <td>False</td>\n",
              "      <td>False</td>\n",
              "      <td>False</td>\n",
              "      <td>False</td>\n",
              "    </tr>\n",
              "    <tr>\n",
              "      <th>20637</th>\n",
              "      <td>False</td>\n",
              "      <td>False</td>\n",
              "      <td>False</td>\n",
              "      <td>False</td>\n",
              "      <td>False</td>\n",
              "      <td>False</td>\n",
              "      <td>False</td>\n",
              "      <td>False</td>\n",
              "      <td>False</td>\n",
              "      <td>False</td>\n",
              "    </tr>\n",
              "    <tr>\n",
              "      <th>20638</th>\n",
              "      <td>False</td>\n",
              "      <td>False</td>\n",
              "      <td>False</td>\n",
              "      <td>False</td>\n",
              "      <td>False</td>\n",
              "      <td>False</td>\n",
              "      <td>False</td>\n",
              "      <td>False</td>\n",
              "      <td>False</td>\n",
              "      <td>False</td>\n",
              "    </tr>\n",
              "    <tr>\n",
              "      <th>20639</th>\n",
              "      <td>False</td>\n",
              "      <td>False</td>\n",
              "      <td>False</td>\n",
              "      <td>False</td>\n",
              "      <td>False</td>\n",
              "      <td>False</td>\n",
              "      <td>False</td>\n",
              "      <td>False</td>\n",
              "      <td>False</td>\n",
              "      <td>False</td>\n",
              "    </tr>\n",
              "  </tbody>\n",
              "</table>\n",
              "<p>20640 rows × 10 columns</p>\n",
              "</div>\n",
              "    <div class=\"colab-df-buttons\">\n",
              "\n",
              "  <div class=\"colab-df-container\">\n",
              "    <button class=\"colab-df-convert\" onclick=\"convertToInteractive('df-cc485e74-cc88-4033-8743-1dddf3df98c1')\"\n",
              "            title=\"Convert this dataframe to an interactive table.\"\n",
              "            style=\"display:none;\">\n",
              "\n",
              "  <svg xmlns=\"http://www.w3.org/2000/svg\" height=\"24px\" viewBox=\"0 -960 960 960\">\n",
              "    <path d=\"M120-120v-720h720v720H120Zm60-500h600v-160H180v160Zm220 220h160v-160H400v160Zm0 220h160v-160H400v160ZM180-400h160v-160H180v160Zm440 0h160v-160H620v160ZM180-180h160v-160H180v160Zm440 0h160v-160H620v160Z\"/>\n",
              "  </svg>\n",
              "    </button>\n",
              "\n",
              "  <style>\n",
              "    .colab-df-container {\n",
              "      display:flex;\n",
              "      gap: 12px;\n",
              "    }\n",
              "\n",
              "    .colab-df-convert {\n",
              "      background-color: #E8F0FE;\n",
              "      border: none;\n",
              "      border-radius: 50%;\n",
              "      cursor: pointer;\n",
              "      display: none;\n",
              "      fill: #1967D2;\n",
              "      height: 32px;\n",
              "      padding: 0 0 0 0;\n",
              "      width: 32px;\n",
              "    }\n",
              "\n",
              "    .colab-df-convert:hover {\n",
              "      background-color: #E2EBFA;\n",
              "      box-shadow: 0px 1px 2px rgba(60, 64, 67, 0.3), 0px 1px 3px 1px rgba(60, 64, 67, 0.15);\n",
              "      fill: #174EA6;\n",
              "    }\n",
              "\n",
              "    .colab-df-buttons div {\n",
              "      margin-bottom: 4px;\n",
              "    }\n",
              "\n",
              "    [theme=dark] .colab-df-convert {\n",
              "      background-color: #3B4455;\n",
              "      fill: #D2E3FC;\n",
              "    }\n",
              "\n",
              "    [theme=dark] .colab-df-convert:hover {\n",
              "      background-color: #434B5C;\n",
              "      box-shadow: 0px 1px 3px 1px rgba(0, 0, 0, 0.15);\n",
              "      filter: drop-shadow(0px 1px 2px rgba(0, 0, 0, 0.3));\n",
              "      fill: #FFFFFF;\n",
              "    }\n",
              "  </style>\n",
              "\n",
              "    <script>\n",
              "      const buttonEl =\n",
              "        document.querySelector('#df-cc485e74-cc88-4033-8743-1dddf3df98c1 button.colab-df-convert');\n",
              "      buttonEl.style.display =\n",
              "        google.colab.kernel.accessAllowed ? 'block' : 'none';\n",
              "\n",
              "      async function convertToInteractive(key) {\n",
              "        const element = document.querySelector('#df-cc485e74-cc88-4033-8743-1dddf3df98c1');\n",
              "        const dataTable =\n",
              "          await google.colab.kernel.invokeFunction('convertToInteractive',\n",
              "                                                    [key], {});\n",
              "        if (!dataTable) return;\n",
              "\n",
              "        const docLinkHtml = 'Like what you see? Visit the ' +\n",
              "          '<a target=\"_blank\" href=https://colab.research.google.com/notebooks/data_table.ipynb>data table notebook</a>'\n",
              "          + ' to learn more about interactive tables.';\n",
              "        element.innerHTML = '';\n",
              "        dataTable['output_type'] = 'display_data';\n",
              "        await google.colab.output.renderOutput(dataTable, element);\n",
              "        const docLink = document.createElement('div');\n",
              "        docLink.innerHTML = docLinkHtml;\n",
              "        element.appendChild(docLink);\n",
              "      }\n",
              "    </script>\n",
              "  </div>\n",
              "\n",
              "\n",
              "<div id=\"df-8507bd81-5c42-486a-8c49-772de5802260\">\n",
              "  <button class=\"colab-df-quickchart\" onclick=\"quickchart('df-8507bd81-5c42-486a-8c49-772de5802260')\"\n",
              "            title=\"Suggest charts.\"\n",
              "            style=\"display:none;\">\n",
              "\n",
              "<svg xmlns=\"http://www.w3.org/2000/svg\" height=\"24px\"viewBox=\"0 0 24 24\"\n",
              "     width=\"24px\">\n",
              "    <g>\n",
              "        <path d=\"M19 3H5c-1.1 0-2 .9-2 2v14c0 1.1.9 2 2 2h14c1.1 0 2-.9 2-2V5c0-1.1-.9-2-2-2zM9 17H7v-7h2v7zm4 0h-2V7h2v10zm4 0h-2v-4h2v4z\"/>\n",
              "    </g>\n",
              "</svg>\n",
              "  </button>\n",
              "\n",
              "<style>\n",
              "  .colab-df-quickchart {\n",
              "    background-color: #E8F0FE;\n",
              "    border: none;\n",
              "    border-radius: 50%;\n",
              "    cursor: pointer;\n",
              "    display: none;\n",
              "    fill: #1967D2;\n",
              "    height: 32px;\n",
              "    padding: 0 0 0 0;\n",
              "    width: 32px;\n",
              "  }\n",
              "\n",
              "  .colab-df-quickchart:hover {\n",
              "    background-color: #E2EBFA;\n",
              "    box-shadow: 0px 1px 2px rgba(60, 64, 67, 0.3), 0px 1px 3px 1px rgba(60, 64, 67, 0.15);\n",
              "    fill: #174EA6;\n",
              "  }\n",
              "\n",
              "  [theme=dark] .colab-df-quickchart {\n",
              "    background-color: #3B4455;\n",
              "    fill: #D2E3FC;\n",
              "  }\n",
              "\n",
              "  [theme=dark] .colab-df-quickchart:hover {\n",
              "    background-color: #434B5C;\n",
              "    box-shadow: 0px 1px 3px 1px rgba(0, 0, 0, 0.15);\n",
              "    filter: drop-shadow(0px 1px 2px rgba(0, 0, 0, 0.3));\n",
              "    fill: #FFFFFF;\n",
              "  }\n",
              "</style>\n",
              "\n",
              "  <script>\n",
              "    async function quickchart(key) {\n",
              "      const charts = await google.colab.kernel.invokeFunction(\n",
              "          'suggestCharts', [key], {});\n",
              "    }\n",
              "    (() => {\n",
              "      let quickchartButtonEl =\n",
              "        document.querySelector('#df-8507bd81-5c42-486a-8c49-772de5802260 button');\n",
              "      quickchartButtonEl.style.display =\n",
              "        google.colab.kernel.accessAllowed ? 'block' : 'none';\n",
              "    })();\n",
              "  </script>\n",
              "</div>\n",
              "    </div>\n",
              "  </div>\n"
            ]
          },
          "metadata": {},
          "execution_count": 7
        },
        {
          "output_type": "stream",
          "name": "stdout",
          "text": [
            "Warning: total number of rows (20640) exceeds max_rows (20000). Limiting to first (20000) rows.\n"
          ]
        }
      ]
    },
    {
      "cell_type": "code",
      "source": [
        "print(housing.isnull().sum())"
      ],
      "metadata": {
        "colab": {
          "base_uri": "https://localhost:8080/"
        },
        "id": "L2wyRHO28g6q",
        "outputId": "f81ce6b0-8861-4bd9-b9f2-faad1dd3d795"
      },
      "execution_count": null,
      "outputs": [
        {
          "output_type": "stream",
          "name": "stdout",
          "text": [
            "longitude             0\n",
            "latitude              0\n",
            "housing_median_age    0\n",
            "total_rooms           0\n",
            "total_bedrooms        0\n",
            "population            0\n",
            "households            0\n",
            "median_income         0\n",
            "median_house_value    0\n",
            "dtype: int64\n"
          ]
        }
      ]
    },
    {
      "cell_type": "code",
      "source": [
        "print(housing.duplicated().sum())"
      ],
      "metadata": {
        "colab": {
          "base_uri": "https://localhost:8080/"
        },
        "id": "y7sTTcmB8g9W",
        "outputId": "a6335a90-56e5-4161-e483-1fffb61ba8ac"
      },
      "execution_count": null,
      "outputs": [
        {
          "output_type": "stream",
          "name": "stdout",
          "text": [
            "0\n"
          ]
        }
      ]
    },
    {
      "cell_type": "code",
      "source": [
        "print(housing.dtypes)\n"
      ],
      "metadata": {
        "colab": {
          "base_uri": "https://localhost:8080/"
        },
        "id": "xDlvxfIC8hAN",
        "outputId": "ff7736e7-6a18-467c-fd6e-b46815fc5d4c"
      },
      "execution_count": null,
      "outputs": [
        {
          "output_type": "stream",
          "name": "stdout",
          "text": [
            "longitude             float64\n",
            "latitude              float64\n",
            "housing_median_age    float64\n",
            "total_rooms           float64\n",
            "total_bedrooms        float64\n",
            "population            float64\n",
            "households            float64\n",
            "median_income         float64\n",
            "median_house_value    float64\n",
            "dtype: object\n"
          ]
        }
      ]
    },
    {
      "cell_type": "code",
      "source": [
        "housing.info()"
      ],
      "metadata": {
        "colab": {
          "base_uri": "https://localhost:8080/"
        },
        "id": "Bfnc1bch8hCe",
        "outputId": "e3ccb955-6b8d-440f-bf9b-f17ed118cabb"
      },
      "execution_count": null,
      "outputs": [
        {
          "output_type": "stream",
          "name": "stdout",
          "text": [
            "<class 'pandas.core.frame.DataFrame'>\n",
            "RangeIndex: 3000 entries, 0 to 2999\n",
            "Data columns (total 9 columns):\n",
            " #   Column              Non-Null Count  Dtype  \n",
            "---  ------              --------------  -----  \n",
            " 0   longitude           3000 non-null   float64\n",
            " 1   latitude            3000 non-null   float64\n",
            " 2   housing_median_age  3000 non-null   float64\n",
            " 3   total_rooms         3000 non-null   float64\n",
            " 4   total_bedrooms      3000 non-null   float64\n",
            " 5   population          3000 non-null   float64\n",
            " 6   households          3000 non-null   float64\n",
            " 7   median_income       3000 non-null   float64\n",
            " 8   median_house_value  3000 non-null   float64\n",
            "dtypes: float64(9)\n",
            "memory usage: 211.1 KB\n"
          ]
        }
      ]
    },
    {
      "cell_type": "code",
      "source": [],
      "metadata": {
        "id": "5iBGlHEe8hIC"
      },
      "execution_count": null,
      "outputs": []
    },
    {
      "cell_type": "markdown",
      "source": [
        "1**. What is the average median income of the data set and check the distribution of data using appropriate plots. Please explain the distribution of the plot.**"
      ],
      "metadata": {
        "id": "JoyW01IR6md-"
      }
    },
    {
      "cell_type": "code",
      "source": [
        "# Import the pandas library with the alias 'pd'\n",
        "import pandas as pd\n",
        "\n",
        "# Calculate the average (mean) value of the 'median_income' column from the 'housing' DataFrame\n",
        "average_value = housing['median_income'].mean()\n",
        "\n",
        "# Print the calculated average value\n",
        "print(average_value)\n"
      ],
      "metadata": {
        "id": "zl2xuBiV24ZB",
        "colab": {
          "base_uri": "https://localhost:8080/"
        },
        "outputId": "12a9a123-8787-4f73-bbd5-dafcea46f08e"
      },
      "execution_count": null,
      "outputs": [
        {
          "output_type": "stream",
          "name": "stdout",
          "text": [
            "3.8706710029069766\n"
          ]
        }
      ]
    },
    {
      "cell_type": "markdown",
      "source": [
        "Distribution of data using appropriate plots"
      ],
      "metadata": {
        "id": "WZ5HgL5398Dv"
      }
    },
    {
      "cell_type": "code",
      "source": [
        "# Import the seaborn library with the alias 'sns'\n",
        "import seaborn as sns\n",
        "\n",
        "# Import the pyplot module from the matplotlib library with the alias 'plt'\n",
        "import matplotlib.pyplot as plt\n",
        "\n",
        "# Create a histogram plot using seaborn to visualize the distribution of 'median_income' column\n",
        "sns.histplot(data=housing['median_income'], bins=[2, 4, 6, 8, 10, 12, 14], color='r', kde=True)\n",
        "\n",
        "# Set the title of the plot\n",
        "plt.title(\"Average Median Income\")\n",
        "\n",
        "# Set the label for the x-axis\n",
        "plt.xlabel(\"Median Income\")\n",
        "\n",
        "# Set the label for the y-axis\n",
        "plt.ylabel(\"Frequency\")\n",
        "\n",
        "# Display the plot\n",
        "plt.show()\n"
      ],
      "metadata": {
        "colab": {
          "base_uri": "https://localhost:8080/",
          "height": 472
        },
        "id": "rVypzbMuwZs2",
        "outputId": "0e659fd2-c95e-4871-c5fa-b29f381b279d"
      },
      "execution_count": null,
      "outputs": [
        {
          "output_type": "display_data",
          "data": {
            "text/plain": [
              "<Figure size 640x480 with 1 Axes>"
            ],
            "image/png": "[encoded data removed]"
          },
          "metadata": {}
        }
      ]
    },
    {
      "cell_type": "code",
      "source": [],
      "metadata": {
        "id": "3iUXo-WvwaFG"
      },
      "execution_count": null,
      "outputs": []
    },
    {
      "cell_type": "markdown",
      "source": [
        "**2. Draw an appropriate plot to see the distribution of housing_median_age and explain your observations.**"
      ],
      "metadata": {
        "id": "uoT9KdrXyojD"
      }
    },
    {
      "cell_type": "code",
      "source": [
        "# Import the seaborn library with the alias 'sns'\n",
        "import seaborn as sns\n",
        "\n",
        "# Import the pyplot module from the matplotlib library with the alias 'plt'\n",
        "import matplotlib.pyplot as plt\n",
        "\n",
        "# Create a histogram plot using seaborn to visualize the distribution of 'housing_median_age' column\n",
        "sns.histplot(data=housing['housing_median_age'], bins=[0, 10, 20, 30, 40, 50], color='b', kde=True)\n",
        "\n",
        "# Set the label for the x-axis\n",
        "plt.xlabel(\"Median Age\")\n",
        "\n",
        "# Set the label for the y-axis\n",
        "plt.ylabel(\"Number of Housing\")\n",
        "\n",
        "# Display the plot\n",
        "plt.show()\n"
      ],
      "metadata": {
        "id": "uj4mYMjo24hQ",
        "colab": {
          "base_uri": "https://localhost:8080/",
          "height": 449
        },
        "outputId": "9a9d9940-c4e8-4f2e-a3d0-1bac0b2d08c6"
      },
      "execution_count": null,
      "outputs": [
        {
          "output_type": "display_data",
          "data": {
            "text/plain": [
              "<Figure size 640x480 with 1 Axes>"
            ],
            "image/png": "[encoded data removed]"
          },
          "metadata": {}
        }
      ]
    },
    {
      "cell_type": "code",
      "source": [],
      "metadata": {
        "id": "TivibSI8EcXL"
      },
      "execution_count": null,
      "outputs": []
    },
    {
      "cell_type": "markdown",
      "source": [
        "**3. Show with the help of visualization, how median_income and median_house_values are related?**"
      ],
      "metadata": {
        "id": "IYsqq2Hzm0dy"
      }
    },
    {
      "cell_type": "code",
      "source": [
        "import seaborn as sns\n",
        "import matplotlib.pyplot as plt\n",
        "\n",
        "# Create a scatter plot to visualize the relationship between median income and median house value.\n",
        "# 'x' parameter specifies the data for the x-axis (median income).\n",
        "# 'y' parameter specifies the data for the y-axis (median house value).\n",
        "# 'data' parameter sets the DataFrame to use for plotting (first 10 rows from 'housing' DataFrame).\n",
        "# 'marker' parameter defines the marker style for the points (using circle markers 'o').\n",
        "sns.scatterplot(x='median_income', y='median_house_value', data=housing.head(10), marker='o')\n",
        "\n",
        "# Add a title to the plot.\n",
        "plt.title(\"Scatter Plot\")\n",
        "\n",
        "# Set the label for the x-axis.\n",
        "plt.xlabel(\"Median Income\")\n",
        "\n",
        "# Set the label for the y-axis.\n",
        "plt.ylabel(\"Median House Value\")\n",
        "\n",
        "# Display the plot.\n",
        "plt.show()\n",
        "\n",
        "\n",
        "\n"
      ],
      "metadata": {
        "id": "Xa-4yEps24lw",
        "colab": {
          "base_uri": "https://localhost:8080/",
          "height": 472
        },
        "outputId": "8e3914e5-d9a7-4368-af0c-771efc0cd0fd"
      },
      "execution_count": null,
      "outputs": [
        {
          "output_type": "display_data",
          "data": {
            "text/plain": [
              "<Figure size 640x480 with 1 Axes>"
            ],
            "image/png": "[encoded data removed]"
          },
          "metadata": {}
        }
      ]
    },
    {
      "cell_type": "code",
      "source": [],
      "metadata": {
        "id": "w_yX_eMtzgz5"
      },
      "execution_count": null,
      "outputs": []
    },
    {
      "cell_type": "markdown",
      "source": [
        "**4. Create a data set by deleting the corresponding examples from the data set for which total_bedrooms are not available**"
      ],
      "metadata": {
        "id": "OwG15o5dRTPK"
      }
    },
    {
      "cell_type": "code",
      "source": [
        "\n",
        "# Create a new dataset without the \"total_bedrooms\" column\n",
        "new_dataset = housing.drop(columns=[\"total_bedrooms\"]).copy()\n",
        "\n",
        "# Display the new dataset without the \"total_bedrooms\" column\n",
        "print(new_dataset)"
      ],
      "metadata": {
        "id": "wsWNA1xQ_ZsY",
        "colab": {
          "base_uri": "https://localhost:8080/"
        },
        "outputId": "65cf186b-903e-4622-853b-ee1ee7c1c9d7"
      },
      "execution_count": null,
      "outputs": [
        {
          "output_type": "stream",
          "name": "stdout",
          "text": [
            "      longitude  latitude  housing_median_age  total_rooms  population  \\\n",
            "0       -122.05     37.37                27.0       3885.0      1537.0   \n",
            "1       -118.30     34.26                43.0       1510.0       809.0   \n",
            "2       -117.81     33.78                27.0       3589.0      1484.0   \n",
            "3       -118.36     33.82                28.0         67.0        49.0   \n",
            "4       -119.67     36.33                19.0       1241.0       850.0   \n",
            "...         ...       ...                 ...          ...         ...   \n",
            "2995    -119.86     34.42                23.0       1450.0      1258.0   \n",
            "2996    -118.14     34.06                27.0       5257.0      3496.0   \n",
            "2997    -119.70     36.30                10.0        956.0       693.0   \n",
            "2998    -117.12     34.10                40.0         96.0        46.0   \n",
            "2999    -119.63     34.42                42.0       1765.0       753.0   \n",
            "\n",
            "      households  median_income  median_house_value  \n",
            "0          606.0         6.6085            344700.0  \n",
            "1          277.0         3.5990            176500.0  \n",
            "2          495.0         5.7934            270500.0  \n",
            "3           11.0         6.1359            330000.0  \n",
            "4          237.0         2.9375             81700.0  \n",
            "...          ...            ...                 ...  \n",
            "2995       607.0         1.1790            225000.0  \n",
            "2996      1036.0         3.3906            237200.0  \n",
            "2997       220.0         2.2895             62000.0  \n",
            "2998        14.0         3.2708            162500.0  \n",
            "2999       260.0         8.5608            500001.0  \n",
            "\n",
            "[3000 rows x 8 columns]\n"
          ]
        }
      ]
    },
    {
      "cell_type": "code",
      "source": [],
      "metadata": {
        "id": "7jKjEX0zODSX"
      },
      "execution_count": null,
      "outputs": []
    },
    {
      "cell_type": "markdown",
      "source": [
        "**5. Create a data set by filling the missing data with the mean value of the total_bedrooms in the original data set.**"
      ],
      "metadata": {
        "id": "5o2g8pdU5TGV"
      }
    },
    {
      "cell_type": "code",
      "source": [
        "# Calculate the mean value of the 'total_bedrooms' column\n",
        "mean_total_bedrooms = housing['total_bedrooms'].mean()\n",
        "\n",
        "# Fill missing values in the 'total_bedrooms' column with the calculated mean value\n",
        "filling_missing_data = housing['total_bedrooms'].fillna(mean_total_bedrooms, inplace=True)\n",
        "\n",
        "# Print the calculated mean value\n",
        "print(mean_total_bedrooms)\n",
        "\n",
        "# Print the result of filling missing data (Note: This will print 'None' because the 'inplace' argument modifies the DataFrame directly)\n",
        "print(filling_missing_data)\n"
      ],
      "metadata": {
        "colab": {
          "base_uri": "https://localhost:8080/"
        },
        "id": "4w6xsNZiE-Ej",
        "outputId": "9418dae0-ab66-48df-9e99-ef5dfa3c32f1"
      },
      "execution_count": null,
      "outputs": [
        {
          "output_type": "stream",
          "name": "stdout",
          "text": [
            "537.8705525375617\n",
            "None\n"
          ]
        }
      ]
    },
    {
      "cell_type": "code",
      "source": [],
      "metadata": {
        "id": "PrRkoQPgxiCe"
      },
      "execution_count": null,
      "outputs": []
    },
    {
      "cell_type": "markdown",
      "source": [
        "**6. Write a programming construct (create a user defined function) to calculate the median value of the data set wherever required.**"
      ],
      "metadata": {
        "id": "epF5W9Im5iCg"
      }
    },
    {
      "cell_type": "code",
      "source": [
        "# Define a function called 'median_value' that takes a single argument 'columnname'\n",
        "def median_value(columnname):\n",
        "    # Calculate the median of the specified column ('columnname') from the 'housing' DataFrame\n",
        "    median = housing[columnname].median()\n",
        "\n",
        "    # Return the calculated median value\n",
        "    return median\n",
        "\n",
        "# Call the 'median_value' function to calculate the median of 'median_income' column\n",
        "median_median_income = median_value('median_income')\n",
        "\n",
        "# Call the 'median_value' function to calculate the median of 'median_house_value' column\n",
        "median_house_value = median_value('median_house_value')\n",
        "\n",
        "# Print the calculated median values\n",
        "print(\"Median_income:\", median_median_income)\n",
        "print(\"Median_house_value:\", median_house_value)\n"
      ],
      "metadata": {
        "colab": {
          "base_uri": "https://localhost:8080/"
        },
        "id": "e50WTiwUp6TQ",
        "outputId": "8ee12ef3-6e59-4492-ad7e-d4430b1c05a8"
      },
      "execution_count": null,
      "outputs": [
        {
          "output_type": "stream",
          "name": "stdout",
          "text": [
            "Median_income: 3.5347999999999997\n",
            "Median_house_value: 179700.0\n"
          ]
        }
      ]
    },
    {
      "cell_type": "code",
      "source": [],
      "metadata": {
        "id": "NhwYly-kTlmk"
      },
      "execution_count": null,
      "outputs": []
    },
    {
      "cell_type": "markdown",
      "source": [
        "**7. Plot latitude versus longitude and explain your observations.**\n",
        "\n"
      ],
      "metadata": {
        "id": "bisegrSaZyIj"
      }
    },
    {
      "cell_type": "code",
      "source": [
        "# Create a scatter plot to visualize the geographical distribution of housing locations.\n",
        "# 'x' parameter specifies the data for the x-axis (longitude).\n",
        "# 'y' parameter specifies the data for the y-axis (latitude).\n",
        "# 'data' parameter sets the DataFrame to use for plotting (first 20 rows from 'housing' DataFrame).\n",
        "sns.scatterplot(x='longitude', y='latitude', data=housing.head(20))\n",
        "\n",
        "# Add a title to the plot.\n",
        "plt.title(\"Latitude and Longitude for Housing\")\n",
        "\n",
        "# Set the label for the x-axis.\n",
        "plt.xlabel(\"Longitude\")\n",
        "\n",
        "# Set the label for the y-axis.\n",
        "plt.ylabel(\"Latitude\")\n",
        "\n",
        "# Display the plot.\n",
        "plt.show()"
      ],
      "metadata": {
        "id": "dmQxVbIP_Z-a",
        "colab": {
          "base_uri": "https://localhost:8080/",
          "height": 472
        },
        "outputId": "71d387a7-d6dd-4277-ab1d-4fb48b594cfe"
      },
      "execution_count": null,
      "outputs": [
        {
          "output_type": "display_data",
          "data": {
            "text/plain": [
              "<Figure size 640x480 with 1 Axes>"
            ],
            "image/png": "[encoded data removed]"
          },
          "metadata": {}
        }
      ]
    },
    {
      "cell_type": "code",
      "source": [],
      "metadata": {
        "id": "W6VXF0SAgfLs"
      },
      "execution_count": null,
      "outputs": []
    },
    {
      "cell_type": "markdown",
      "source": [
        "**8. Create a data set for which the ocean_proximity is ‘Near ocean’.**"
      ],
      "metadata": {
        "id": "rXkcjKObhXvW"
      }
    },
    {
      "cell_type": "code",
      "source": [
        "# Create a subset 'near_ocean_data' by filtering rows where 'ocean_proximity' is 'NEAR OCEAN'\n",
        "near_ocean_data = housing[housing['ocean_proximity'] == 'NEAR OCEAN']\n",
        "\n",
        "# Print the 'near_ocean_data' subset\n",
        "print(near_ocean_data)\n"
      ],
      "metadata": {
        "id": "SA1k6OxYAEjx",
        "colab": {
          "base_uri": "https://localhost:8080/"
        },
        "outputId": "c539fa3c-911e-43c3-f0ab-8d8b81f4b568"
      },
      "execution_count": null,
      "outputs": [
        {
          "output_type": "stream",
          "name": "stdout",
          "text": [
            "       longitude  latitude  housing_median_age  total_rooms  total_bedrooms  \\\n",
            "1850     -124.17     41.80                  16         2739           480.0   \n",
            "1851     -124.30     41.80                  19         2672           552.0   \n",
            "1852     -124.23     41.75                  11         3159           616.0   \n",
            "1853     -124.21     41.77                  17         3461           722.0   \n",
            "1854     -124.19     41.78                  15         3140           714.0   \n",
            "...          ...       ...                 ...          ...             ...   \n",
            "20380    -118.83     34.14                  16         1316           194.0   \n",
            "20381    -118.83     34.14                  16         1956           312.0   \n",
            "20423    -119.00     34.08                  17         1822           438.0   \n",
            "20424    -118.75     34.18                   4        16704          2704.0   \n",
            "20425    -118.75     34.17                  18         6217           858.0   \n",
            "\n",
            "       population  households  median_income  median_house_value  \\\n",
            "1850         1259         436         3.7557              109400   \n",
            "1851         1298         478         1.9797               85800   \n",
            "1852         1343         479         2.4805               73200   \n",
            "1853         1947         647         2.5795               68400   \n",
            "1854         1645         640         1.6654               74600   \n",
            "...           ...         ...            ...                 ...   \n",
            "20380         450         173        10.1597              500001   \n",
            "20381         671         319         6.4001              321800   \n",
            "20423         578         291         5.4346              428600   \n",
            "20424        6187        2207         6.6122              357600   \n",
            "20425        2703         834         6.8075              325900   \n",
            "\n",
            "      ocean_proximity  \n",
            "1850       NEAR OCEAN  \n",
            "1851       NEAR OCEAN  \n",
            "1852       NEAR OCEAN  \n",
            "1853       NEAR OCEAN  \n",
            "1854       NEAR OCEAN  \n",
            "...               ...  \n",
            "20380      NEAR OCEAN  \n",
            "20381      NEAR OCEAN  \n",
            "20423      NEAR OCEAN  \n",
            "20424      NEAR OCEAN  \n",
            "20425      NEAR OCEAN  \n",
            "\n",
            "[2658 rows x 10 columns]\n"
          ]
        }
      ]
    },
    {
      "cell_type": "code",
      "source": [],
      "metadata": {
        "id": "-GT2k3Hm6PO2"
      },
      "execution_count": null,
      "outputs": []
    },
    {
      "cell_type": "markdown",
      "source": [
        "**9. Find the mean and median of the median income for the data set created in question 8.**"
      ],
      "metadata": {
        "id": "eENTz3i8hgT1"
      }
    },
    {
      "cell_type": "code",
      "source": [
        "# Calculate the mean value of 'median_income' for the 'near_ocean_data' subset\n",
        "mean_income = near_ocean_data['median_income'].mean()\n",
        "\n",
        "# Calculate the median value of 'median_income' for the 'near_ocean_data' subset\n",
        "median_income = near_ocean_data['median_income'].median()\n",
        "\n",
        "# Print the calculated mean value of 'median_income'\n",
        "print(mean_income)\n",
        "\n",
        "# Print the calculated median value of 'median_income'\n",
        "print(median_income)\n",
        "\n",
        "\n"
      ],
      "metadata": {
        "id": "NVayKjRqhcbu",
        "colab": {
          "base_uri": "https://localhost:8080/"
        },
        "outputId": "0e9da9c4-7322-4e02-d256-89fac1686ee4"
      },
      "execution_count": null,
      "outputs": [
        {
          "output_type": "stream",
          "name": "stdout",
          "text": [
            "4.0057848006019565\n",
            "3.64705\n"
          ]
        }
      ]
    },
    {
      "cell_type": "code",
      "source": [],
      "metadata": {
        "id": "npjRRBdPhcee"
      },
      "execution_count": null,
      "outputs": []
    },
    {
      "cell_type": "markdown",
      "source": [
        "**10. Please create a new column named total_bedroom_size. If the total bedrooms is 10 or less, it should be quoted as small. If the total bedrooms is 11 or more but less than 1000, it should be medium, otherwise it should be considered large.**"
      ],
      "metadata": {
        "id": "x2E59FTq4oJC"
      }
    },
    {
      "cell_type": "code",
      "source": [
        "import pandas as pd\n",
        "\n",
        "\n",
        "housingd = pd.DataFrame(housing)\n",
        "\n",
        "# Define a function to apply the conditions and return size category\n",
        "def categorize_bedroom_size(row):\n",
        "    if row['total_bedrooms'] <= 10:\n",
        "        return 'small'\n",
        "    elif 11 <= row['total_bedrooms'] < 1000:\n",
        "        return 'medium'\n",
        "    else:\n",
        "        return 'large'\n",
        "\n",
        "# Apply the function to create the new column 'total_bedroom_size'\n",
        "housingd['total_bedroom_size'] = housingd.apply(categorize_bedroom_size, axis=1)\n",
        "\n",
        "# Display the DataFrame with the new column\n",
        "print(housingd)\n"
      ],
      "metadata": {
        "colab": {
          "base_uri": "https://localhost:8080/"
        },
        "id": "7TvPgTxh3Juw",
        "outputId": "7b04bb20-bc10-4ae8-9508-383100e604e3"
      },
      "execution_count": null,
      "outputs": [
        {
          "output_type": "stream",
          "name": "stdout",
          "text": [
            "       longitude  latitude  housing_median_age  total_rooms  total_bedrooms  \\\n",
            "0        -122.23     37.88                  41          880           129.0   \n",
            "1        -122.22     37.86                  21         7099          1106.0   \n",
            "2        -122.24     37.85                  52         1467           190.0   \n",
            "3        -122.25     37.85                  52         1274           235.0   \n",
            "4        -122.25     37.85                  52         1627           280.0   \n",
            "...          ...       ...                 ...          ...             ...   \n",
            "20635    -121.09     39.48                  25         1665           374.0   \n",
            "20636    -121.21     39.49                  18          697           150.0   \n",
            "20637    -121.22     39.43                  17         2254           485.0   \n",
            "20638    -121.32     39.43                  18         1860           409.0   \n",
            "20639    -121.24     39.37                  16         2785           616.0   \n",
            "\n",
            "       population  households  median_income  median_house_value  \\\n",
            "0             322         126         8.3252              452600   \n",
            "1            2401        1138         8.3014              358500   \n",
            "2             496         177         7.2574              352100   \n",
            "3             558         219         5.6431              341300   \n",
            "4             565         259         3.8462              342200   \n",
            "...           ...         ...            ...                 ...   \n",
            "20635         845         330         1.5603               78100   \n",
            "20636         356         114         2.5568               77100   \n",
            "20637        1007         433         1.7000               92300   \n",
            "20638         741         349         1.8672               84700   \n",
            "20639        1387         530         2.3886               89400   \n",
            "\n",
            "      ocean_proximity total_bedroom_size  \n",
            "0            NEAR BAY             medium  \n",
            "1            NEAR BAY              large  \n",
            "2            NEAR BAY             medium  \n",
            "3            NEAR BAY             medium  \n",
            "4            NEAR BAY             medium  \n",
            "...               ...                ...  \n",
            "20635          INLAND             medium  \n",
            "20636          INLAND             medium  \n",
            "20637          INLAND             medium  \n",
            "20638          INLAND             medium  \n",
            "20639          INLAND             medium  \n",
            "\n",
            "[20640 rows x 11 columns]\n"
          ]
        }
      ]
    },
    {
      "cell_type": "code",
      "source": [],
      "metadata": {
        "id": "aNMVKCRL3JyQ"
      },
      "execution_count": null,
      "outputs": []
    },
    {
      "cell_type": "code",
      "source": [
        "import pandas as pd\n",
        "\n",
        "# Assuming 'housing' is your existing DataFrame\n",
        "\n",
        "# Define the bins and labels for categorization\n",
        "bins = [-float('inf'), 10, 1000, float('inf')]\n",
        "labels = ['small', 'medium', 'large']\n",
        "\n",
        "# Add a new column 'total_bedroom_size' using pd.cut()\n",
        "housing['total_bedroom_size'] = pd.cut(housing['total_bedrooms'], bins=bins, labels=labels)\n",
        "\n",
        "# Display the DataFrame with the new column\n",
        "print(housing)\n"
      ],
      "metadata": {
        "id": "2LYQHg8I9hNa",
        "colab": {
          "base_uri": "https://localhost:8080/"
        },
        "outputId": "5dbadfa0-b9ab-487a-89d8-804254ac6ac9"
      },
      "execution_count": null,
      "outputs": [
        {
          "output_type": "stream",
          "name": "stdout",
          "text": [
            "       longitude  latitude  housing_median_age  total_rooms  total_bedrooms  \\\n",
            "0        -122.23     37.88                  41          880           129.0   \n",
            "1        -122.22     37.86                  21         7099          1106.0   \n",
            "2        -122.24     37.85                  52         1467           190.0   \n",
            "3        -122.25     37.85                  52         1274           235.0   \n",
            "4        -122.25     37.85                  52         1627           280.0   \n",
            "...          ...       ...                 ...          ...             ...   \n",
            "20635    -121.09     39.48                  25         1665           374.0   \n",
            "20636    -121.21     39.49                  18          697           150.0   \n",
            "20637    -121.22     39.43                  17         2254           485.0   \n",
            "20638    -121.32     39.43                  18         1860           409.0   \n",
            "20639    -121.24     39.37                  16         2785           616.0   \n",
            "\n",
            "       population  households  median_income  median_house_value  \\\n",
            "0             322         126         8.3252              452600   \n",
            "1            2401        1138         8.3014              358500   \n",
            "2             496         177         7.2574              352100   \n",
            "3             558         219         5.6431              341300   \n",
            "4             565         259         3.8462              342200   \n",
            "...           ...         ...            ...                 ...   \n",
            "20635         845         330         1.5603               78100   \n",
            "20636         356         114         2.5568               77100   \n",
            "20637        1007         433         1.7000               92300   \n",
            "20638         741         349         1.8672               84700   \n",
            "20639        1387         530         2.3886               89400   \n",
            "\n",
            "      ocean_proximity total_bedroom_size  \n",
            "0            NEAR BAY             medium  \n",
            "1            NEAR BAY              large  \n",
            "2            NEAR BAY             medium  \n",
            "3            NEAR BAY             medium  \n",
            "4            NEAR BAY             medium  \n",
            "...               ...                ...  \n",
            "20635          INLAND             medium  \n",
            "20636          INLAND             medium  \n",
            "20637          INLAND             medium  \n",
            "20638          INLAND             medium  \n",
            "20639          INLAND             medium  \n",
            "\n",
            "[20640 rows x 11 columns]\n"
          ]
        }
      ]
    },
    {
      "cell_type": "code",
      "source": [],
      "metadata": {
        "id": "WQuR_93K9hXx"
      },
      "execution_count": null,
      "outputs": []
    }
  ]
}